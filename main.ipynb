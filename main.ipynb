{
 "cells": [
  {
   "cell_type": "code",
   "execution_count": 20,
   "metadata": {},
   "outputs": [
    {
     "name": "stdout",
     "output_type": "stream",
     "text": [
      "بمناسبة الدخول الجامعي الجديد، ثم بحمد الله إعطاء الإنطلاقة لموقع مجموعة طلبة كلية العلوم على الأنترنت.هذا الموقع يوفر لكم دروس و تمارين مختلف الوحدات بالكلية.\n",
      "مرحباً بكم في موقع طلبة كلية العلوم أكادير\n",
      "قريباً سيتم ٱستكمال تحميل ما تبقى من الدروس على الموقع\n",
      "إنتظرونا\n",
      "هذا هو رابط الموقع :\n",
      "http://www.fsagadir.com/\n",
      "نداء من الطالب الجامعي ادريس اوفل\n",
      "\" انا في امس الحاجة اليكم اسمي ادريس اوفل من اقليم تارودانت, اليوم كنت في طريقي لمدينة اسفي قاصدا احد الاصدقاء كان قد طلب مني سيرتي الداتية بهدف التقدم للحصول على وظيفة لكن في طريقي نزلت من الحافلة لكي اشتري قنينة ماء...\n",
      "بعدها رجعت لمقعدي و اكتشفت ان حقيبتي التي تحتوي على حاسوبي و أموالي وجميع الشواهد الدراسية الاصلية قد سرقت من فوق الرف العلوي للحافلة... عانيت كثيرا من صدمة مؤلمة جراء ما وقع لي ...بحثت طويلا لكن دون جدوى ...\n",
      "من فظلكم اريد ان تنشروا هذه الرسالة على حساباتكم و مواقعكم الشخصية لعل وعسى يقرأها السارق ...الذي لا أطلب منه سوى شواهدي الدراسية التي تعبت سنين للحصول عليها ، خصوصا أنني الان في امس الحاجة اليها ، كما انه من الصعب ضياع ثمار كل هذه السنين من الدراسة والاجتهاد....\n",
      "جزاكم الله الف خير ساعدوني من فظلكم. لا تخيبوا ظني .. فالله وحده أعلم بحالي وما أعانيه جراء الصدمة من ما وقع والله على ما اقوله شهيد...\n",
      "أشير بالذكر أني قصدت مركز الامن لتسجيل شكاية... دون جدوى ، فبعد انتضاري قدوم الضابط الممتاز لفترة طويلة كما طلبوا مني ، لم يقم بدوره إلا أن طلب مني تسجل شكاية لدى وكيل الملك تحت دريعة عدم الإختصاص... انتظرت كذلك في المركز لساعات و ساعات لكن ولا من يبالي ...انا الان استغرب ما هو دور مراكز الامن ان لم يقوموا بمساعدة اشخاص أمثالي....\n",
      "الان لم يتبقى لي غير ابناء شعبي لأستنجد... ارجوكم اخواني أطلب منكم مرة أخرى أن تنشروا رسالتي هذه ،و أكرر كذلك أنني لا أطلب من السارق غير ان يرسل لي الوثائق ، ولا حاجت لي لا بالمال و لا بالحاسوب ، مصير حياتي بين يديه ...\n",
      "شكرا لكم على سماع قصتي و أشكر مسبقا من قد يساعدني واطلب من الله ان يجعلها في ميزان حسناته...\"\n",
      "رقم هاتفي : 0676237445\n",
      "بريدي الالكتروني: idrissoufel@outlook.com\n",
      "مرحبا بجميع الطلبة في صفحة الرسمية ملتقى طلبة كلية العلوم القانونية والاقتصاديةس1ـس3 جامعة ابن زهر ءكادير من خلالها ستتوصلنا بملخصات الدروس و نمادج امتحانات ومساعدات في كل مسائل النظام الجاميعي الجديد ومساعدة الطلبة الجدد على مسائل التسجيل ودروس صوتية وكدا مجموعة من الامور.للاستفادة من كل هدا ما عليك الى الضغط على الزز ''اعجبني''\n",
      "https://www.facebook.com/groups/1455835011406722/\n",
      "svp pour les étudiants de tiznit branche dyal chimie wach obligatoire d'inscription au niveau de ait mlloul ola kayn le choix de faire les études à agadir merci d’avance\n",
      "سجل الآن مجانا في :\n",
      "www.doztchof.com\n",
      "https://www.facebook.com/DozChof\n",
      "تجربة جديدة جديرة بالإهتمام، إنطلاق التسجيل في الدورات التكوينية المجانية، في عدة مجالات من بينها دورة في موضوع « الشركة من الفكرة إلى الإنتاج» تعلم كيف تحول أفكارك إلى مشاريع ناجحة، دراسة السوق، التخطيط، التسويق، التمويل و الإنتاج. خمس مراحل فارقة في حياة كل مقاولة ناشئة، من خلالها تجيب على كل الأسئلة و الشروط المطلوبة لولوج أسواق المنافسة و إقناع المستهلك و كافة الشركاء بأهمية فكرة المشروع و قدرة حامليها على حسن تنفيذها في الوقت و المكان المناسبين.كورس مجاني يقدمه مجموعة من المهنيين و المهتمين بعالم المقاولات الناشئة، و مدراء مشاريع ناجحة يقاسموا المشاركين تجارب حقيقية في صناعة « مدير الشركة» و تحريره من حدود حامل فكرة المشروع إلى قائد فريق عمل متكامل و مبادر.يمكنك التسجيل الآن معنا مجانا.. و الإستفادة من دورة تكوينية كاملة و التعرف على حاملي أفكار مشاريع آخرين و توسيع مجال علاقاتك الشخصية و المهنية.غير رتابة الحياة .. و سجل الآن في برنامج الدورة ..الدورة مهداة من فريق « دوز تشوف » إلى كل من يمتلك روح المبادرة و لديه الرغبة في رسم مستقبل أفضل و تطوير قدراته المعرفية و خبراته في الحياة.................................................................................«دوز تشوف» كل ما تبحث عنه، نقدمه لك مجانا و بصدر رحب..\n",
      "https://www.youtube.com/watch?v=76u-LTALkI8&feature=youtu.be\n",
      "Fãtï Rm\n",
      "Li brat tsjel mrhba\n",
      "لي خاصو يقاد presentation ع لى شي موضوع يراسلني فالخاص\n"
     ]
    }
   ],
   "source": [
    "from selenium import webdriver\n",
    "from selenium.webdriver.common.by import By\n",
    "from selenium.webdriver.chrome.service import Service\n",
    "from webdriver_manager.chrome import ChromeDriverManager\n",
    "from selenium.webdriver.chrome.options import Options\n",
    "import time\n",
    "# Set up Tor proxy\n",
    "tor_proxy = \"socks5://127.0.0.1:9050\"\n",
    "\n",
    "# Set up Chrome options to use Tor proxy\n",
    "chrome_options = Options()\n",
    "chrome_options.add_argument(f\"--proxy-server={tor_proxy}\")\n",
    "\n",
    "# Set up the Chrome WebDriver with Tor proxy\n",
    "driver = webdriver.Chrome(service=Service(ChromeDriverManager().install()), options=chrome_options)\n",
    "\n",
    "# Navigate to a website\n",
    "driver.get(\"https://web.facebook.com/EtudiantsUIZ/posts/525540397539406\")\n",
    "\n",
    "time.sleep(5)\n",
    "# Click all <div> elements with 'See more'\n",
    "see_more_divs = driver.find_elements(By.XPATH, '//div[text()=\"See more\"]')\n",
    "for div in see_more_divs:\n",
    "    div.click()\n",
    "\n",
    "# Click all <span> elements with 'View X more comments'\n",
    "view_more_spans = driver.find_elements(By.XPATH, '//span[contains(text(), \"View\") and contains(text(), \"more comments\")]')\n",
    "for span in view_more_spans:\n",
    "    span.click()\n",
    "\n",
    "time.sleep(5)\n",
    "\n",
    "# Find all <div> elements with the specified style attribute\n",
    "div_elements = driver.find_elements(By.XPATH, '//div[contains(@style, \"text-align:\")]')\n",
    "\n",
    "# Extract and print text from all found elements\n",
    "all_text = [div.text for div in div_elements]\n",
    "\n",
    "print(\"\\n\".join(all_text))\n",
    "# Close the browser\n",
    "driver.quit()\n"
   ]
  }
 ],
 "metadata": {
  "kernelspec": {
   "display_name": "scrape-comments",
   "language": "python",
   "name": "python3"
  },
  "language_info": {
   "codemirror_mode": {
    "name": "ipython",
    "version": 3
   },
   "file_extension": ".py",
   "mimetype": "text/x-python",
   "name": "python",
   "nbconvert_exporter": "python",
   "pygments_lexer": "ipython3",
   "version": "3.8.20"
  }
 },
 "nbformat": 4,
 "nbformat_minor": 2
}
