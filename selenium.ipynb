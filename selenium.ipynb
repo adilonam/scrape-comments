{
 "cells": [
  {
   "cell_type": "code",
   "execution_count": 5,
   "metadata": {},
   "outputs": [
    {
     "ename": "AttributeError",
     "evalue": "'WebElement' object has no attribute 'execute_script'",
     "output_type": "error",
     "traceback": [
      "\u001b[0;31m---------------------------------------------------------------------------\u001b[0m",
      "\u001b[0;31mAttributeError\u001b[0m                            Traceback (most recent call last)",
      "Cell \u001b[0;32mIn[5], line 46\u001b[0m\n\u001b[1;32m     43\u001b[0m \u001b[38;5;66;03m# Find all <div> elements with the specified style attribute\u001b[39;00m\n\u001b[1;32m     44\u001b[0m div_elements \u001b[38;5;241m=\u001b[39m driver\u001b[38;5;241m.\u001b[39mfind_elements(By\u001b[38;5;241m.\u001b[39mXPATH, \u001b[38;5;124m'\u001b[39m\u001b[38;5;124m//div[contains(@style, \u001b[39m\u001b[38;5;124m\"\u001b[39m\u001b[38;5;124mtext-align:\u001b[39m\u001b[38;5;124m\"\u001b[39m\u001b[38;5;124m)]\u001b[39m\u001b[38;5;124m'\u001b[39m)\n\u001b[0;32m---> 46\u001b[0m \u001b[43mdiv_elements\u001b[49m\u001b[43m[\u001b[49m\u001b[38;5;241;43m-\u001b[39;49m\u001b[38;5;241;43m1\u001b[39;49m\u001b[43m]\u001b[49m\u001b[38;5;241;43m.\u001b[39;49m\u001b[43mexecute_script\u001b[49m(\u001b[38;5;124m'\u001b[39m\u001b[38;5;124mscrollBy(0, 250)\u001b[39m\u001b[38;5;124m'\u001b[39m)\n\u001b[1;32m     48\u001b[0m time\u001b[38;5;241m.\u001b[39msleep(\u001b[38;5;241m50\u001b[39m)\n\u001b[1;32m     49\u001b[0m \u001b[38;5;66;03m# Extract and print text from all found elements\u001b[39;00m\n",
      "\u001b[0;31mAttributeError\u001b[0m: 'WebElement' object has no attribute 'execute_script'"
     ]
    }
   ],
   "source": [
    "from selenium import webdriver\n",
    "from selenium.webdriver.common.by import By\n",
    "from selenium.webdriver.chrome.service import Service\n",
    "from webdriver_manager.chrome import ChromeDriverManager\n",
    "from selenium.webdriver.chrome.options import Options\n",
    "from selenium.webdriver.support.ui import WebDriverWait\n",
    "from selenium.webdriver.support import expected_conditions as EC\n",
    "import time\n",
    "from selenium.webdriver.common.action_chains import ActionChains\n",
    "from selenium.webdriver.common.keys import Keys\n",
    "# Set up Tor proxy\n",
    "tor_proxy = \"socks5://127.0.0.1:9050\"\n",
    "\n",
    "# Set up Chrome options to use Tor proxy\n",
    "chrome_options = Options()\n",
    "chrome_options.add_argument(f\"--proxy-server={tor_proxy}\")\n",
    "\n",
    "# Set up the Chrome WebDriver with Tor proxy\n",
    "driver = webdriver.Chrome(service=Service(ChromeDriverManager().install()), options=chrome_options)\n",
    "\n",
    "# Navigate to a website\n",
    "driver.get(\"https://www.facebook.com/Hespress/posts/pfbid021ekyH7772jfUY2QgJm4DUSxjf3EqPrjvHL3851jfASVYuUHRubxmWtustmc8S1Asl\")\n",
    "\n",
    "\n",
    "# Click the <div> element with 'Allow all cookies'\n",
    "allow_cookies_span = driver.find_element(By.XPATH, '//span[contains(text(), \"Allow all cookies\")]')\n",
    "ActionChains(driver).move_to_element(allow_cookies_span).click().perform()\n",
    "\n",
    "\n",
    "# Click all <div> elements with 'See more'\n",
    "see_more_divs = driver.find_elements(By.XPATH, '//div[text()=\"See more\"]')\n",
    "for div in see_more_divs:\n",
    "    div.click()\n",
    "\n",
    "# Click all <span> elements with 'View X more comments'\n",
    "view_more_spans = driver.find_elements(By.XPATH, '//span[contains(text(), \"View\") and contains(text(), \"more comments\")]')\n",
    "for span in view_more_spans:\n",
    "    span.click()\n",
    "\n",
    "time.sleep(5)\n",
    "\n",
    "\n",
    "# Find all <div> elements with the specified style attribute\n",
    "div_elements = driver.find_elements(By.XPATH, '//div[contains(@style, \"text-align:\")]')\n",
    "\n",
    "div_elements[-1].execute_script('scrollBy(0, 250)')\n",
    "\n",
    "time.sleep(50)\n",
    "# Extract and print text from all found elements\n",
    "all_text = [div.text for div in div_elements]\n",
    "\n",
    "print(\"\\n\".join(all_text))\n",
    "\n",
    "\n",
    "# Close the browser\n",
    "driver.quit()\n"
   ]
  }
 ],
 "metadata": {
  "kernelspec": {
   "display_name": "scrape-comments",
   "language": "python",
   "name": "python3"
  },
  "language_info": {
   "codemirror_mode": {
    "name": "ipython",
    "version": 3
   },
   "file_extension": ".py",
   "mimetype": "text/x-python",
   "name": "python",
   "nbconvert_exporter": "python",
   "pygments_lexer": "ipython3",
   "version": "3.11.11"
  }
 },
 "nbformat": 4,
 "nbformat_minor": 2
}
