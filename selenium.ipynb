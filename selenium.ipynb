{
 "cells": [
  {
   "cell_type": "markdown",
   "metadata": {},
   "source": [
    "## check tor"
   ]
  },
  {
   "cell_type": "code",
   "execution_count": 5,
   "metadata": {},
   "outputs": [
    {
     "name": "stdout",
     "output_type": "stream",
     "text": [
      "Tor is working.\n"
     ]
    }
   ],
   "source": [
    "%reset -f\n",
    "import requests\n",
    "\n",
    "# Set up Tor proxy\n",
    "tor_proxy = \"socks5://127.0.0.1:9050\"\n",
    "proxies = {\n",
    "    \"http\": tor_proxy,\n",
    "    \"https\": tor_proxy,\n",
    "}\n",
    "\n",
    "# Check if Tor is working by making a request to the official Tor check website\n",
    "try:\n",
    "    response = requests.get(\"https://check.torproject.org\", proxies=proxies)\n",
    "    if \"Congratulations. This browser is configured to use Tor.\" in response.text:\n",
    "        print(\"Tor is working.\")\n",
    "    else:\n",
    "        print(\"Tor is not working.\")\n",
    "except requests.exceptions.RequestException as e:\n",
    "    print(\"Tor is not working:\", e)"
   ]
  },
  {
   "cell_type": "markdown",
   "metadata": {},
   "source": [
    "## Scrape"
   ]
  },
  {
   "cell_type": "code",
   "execution_count": 6,
   "metadata": {},
   "outputs": [
    {
     "name": "stdout",
     "output_type": "stream",
     "text": [
      "Data saved to ./scraped_data/18ec94de0d4f51aa1141d820de3b8cfd_2025-03-03.txt\n"
     ]
    }
   ],
   "source": [
    "%reset -f\n",
    "from datetime import datetime\n",
    "import os\n",
    "import hashlib\n",
    "from selenium import webdriver\n",
    "from selenium.webdriver.common.by import By\n",
    "from selenium.webdriver.chrome.service import Service\n",
    "from webdriver_manager.chrome import ChromeDriverManager\n",
    "from selenium.webdriver.chrome.options import Options\n",
    "from selenium.webdriver.support.ui import WebDriverWait\n",
    "from selenium.webdriver.support import expected_conditions as EC\n",
    "import time\n",
    "from selenium.webdriver.common.action_chains import ActionChains\n",
    "from selenium.webdriver.common.keys import Keys\n",
    "# Set up Tor proxy\n",
    "tor_proxy = \"socks5://127.0.0.1:9050\"\n",
    "\n",
    "# Set up Chrome options to use Tor proxy\n",
    "chrome_options = Options()\n",
    "chrome_options.add_argument(f\"--proxy-server={tor_proxy}\")\n",
    "\n",
    "# Set up the Chrome WebDriver with Tor proxy\n",
    "driver = webdriver.Chrome(service=Service(ChromeDriverManager().install()), options=chrome_options)\n",
    "\n",
    "# Navigate to a website\n",
    "driver.get(\"https://www.facebook.com/Hespress/posts/pfbid021ekyH7772jfUY2QgJm4DUSxjf3EqPrjvHL3851jfASVYuUHRubxmWtustmc8S1Asl\")\n",
    "\n",
    "\n",
    "# Click the <div> element with 'Allow all cookies'\n",
    "allow_cookies_span = driver.find_element(By.XPATH, '//span[contains(text(), \"Allow all cookies\")]')\n",
    "ActionChains(driver).move_to_element(allow_cookies_span).click().perform()\n",
    "\n",
    "\n",
    "\n",
    "\n",
    "input(\"Press Enter to continue...\")\n",
    "\n",
    "# # Click all <div> elements with 'See more'\n",
    "see_more_divs = driver.find_elements(By.XPATH, '//div[text()=\"See more\"]')\n",
    "for div in see_more_divs:\n",
    "    div.click()\n",
    "\n",
    "time.sleep(5)\n",
    "# Find all <div> elements with the specified style attribute\n",
    "div_elements = driver.find_elements(By.XPATH, '//div[contains(@style, \"text-align:\")]')\n",
    "\n",
    "\n",
    "\n",
    "# Extract and print text from all found elements\n",
    "all_text = [div.text for div in div_elements]\n",
    "\n",
    "# Save the extracted text to a file\n",
    "current_date = datetime.now().strftime(\"%Y-%m-%d\")\n",
    "output_dir = \"./scraped_data\"\n",
    "os.makedirs(output_dir, exist_ok=True)\n",
    "\n",
    "# Generate a hash for the content\n",
    "content_hash = hashlib.md5(\"\\n\".join(all_text).encode()).hexdigest()\n",
    "\n",
    "# Name the file with hash and date\n",
    "output_file = os.path.join(output_dir, f\"{content_hash}_{current_date}.txt\")\n",
    "\n",
    "with open(output_file, \"w\") as file:\n",
    "    file.write(\"\\n\".join(all_text))\n",
    "\n",
    "print(f\"Data saved to {output_file}\")\n",
    "\n",
    "\n",
    "\n",
    "# Close the browser\n",
    "driver.quit()\n"
   ]
  }
 ],
 "metadata": {
  "kernelspec": {
   "display_name": "scrape-comments",
   "language": "python",
   "name": "python3"
  },
  "language_info": {
   "codemirror_mode": {
    "name": "ipython",
    "version": 3
   },
   "file_extension": ".py",
   "mimetype": "text/x-python",
   "name": "python",
   "nbconvert_exporter": "python",
   "pygments_lexer": "ipython3",
   "version": "3.11.11"
  }
 },
 "nbformat": 4,
 "nbformat_minor": 2
}
