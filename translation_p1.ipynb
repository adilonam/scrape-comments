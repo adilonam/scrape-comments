{
 "cells": [
  {
   "cell_type": "code",
   "execution_count": 1,
   "metadata": {},
   "outputs": [
    {
     "name": "stdout",
     "output_type": "stream",
     "text": [
      "CUDA is available. PyTorch is using GPU.\n",
      "Device name: NVIDIA T1000 8GB\n"
     ]
    }
   ],
   "source": [
    "import torch\n",
    "\n",
    "if torch.cuda.is_available():\n",
    "    print(\"CUDA is available. PyTorch is using GPU.\")\n",
    "    print(f\"Device name: {torch.cuda.get_device_name(0)}\")\n",
    "else:\n",
    "    print(\"CUDA is not available. PyTorch is using CPU.\")"
   ]
  },
  {
   "cell_type": "code",
   "execution_count": 3,
   "metadata": {},
   "outputs": [],
   "source": [
    "%reset -f\n",
    "from transformers import MarianMTModel, MarianTokenizer\n",
    "\n",
    "source_lang = \"ar\"  # Replace 'fr' with your desired source language code\n",
    "MODEL = f\"Helsinki-NLP/opus-mt-{source_lang}-en\"\n",
    "\n",
    "\n",
    "# Load the tokenizer and model\n",
    "tokenizer = MarianTokenizer.from_pretrained(MODEL)\n",
    "model = MarianMTModel.from_pretrained(MODEL )\n",
    "\n",
    "\n",
    "tokenizer.save_pretrained(MODEL)\n",
    "\n",
    "model.save_pretrained(MODEL)\n",
    "\n",
    "\n"
   ]
  },
  {
   "cell_type": "code",
   "execution_count": 11,
   "metadata": {},
   "outputs": [
    {
     "name": "stdout",
     "output_type": "stream",
     "text": [
      "Translated text: Hello, everyone in the world.\n",
      "Execution time: 0.26 seconds\n"
     ]
    }
   ],
   "source": [
    "import time\n",
    "\n",
    "# Measure start time\n",
    "start_time = time.time()\n",
    "\n",
    "# Example text to translate\n",
    "text = \"مرحبا بالجميع في العالم\"  # Replace with your source language text in Arabic\n",
    "inputs = tokenizer.encode(text, return_tensors=\"pt\", padding=True, truncation=True)\n",
    "\n",
    "# Perform translation\n",
    "translated = model.generate(inputs)\n",
    "translated_text = tokenizer.decode(translated[0], skip_special_tokens=True)\n",
    "\n",
    "# Measure end time\n",
    "end_time = time.time()\n",
    "\n",
    "print(f\"Translated text: {translated_text}\")\n",
    "print(f\"Execution time: {end_time - start_time:.2f} seconds\")"
   ]
  }
 ],
 "metadata": {
  "kernelspec": {
   "display_name": "scrape-comments",
   "language": "python",
   "name": "python3"
  },
  "language_info": {
   "codemirror_mode": {
    "name": "ipython",
    "version": 3
   },
   "file_extension": ".py",
   "mimetype": "text/x-python",
   "name": "python",
   "nbconvert_exporter": "python",
   "pygments_lexer": "ipython3",
   "version": "3.8.20"
  }
 },
 "nbformat": 4,
 "nbformat_minor": 2
}
