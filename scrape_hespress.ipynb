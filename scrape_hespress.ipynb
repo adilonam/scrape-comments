{
 "cells": [
  {
   "cell_type": "markdown",
   "id": "d281809a",
   "metadata": {},
   "source": [
    "# CHECK TOR"
   ]
  },
  {
   "cell_type": "code",
   "execution_count": 3,
   "id": "3130edc1",
   "metadata": {},
   "outputs": [
    {
     "name": "stdout",
     "output_type": "stream",
     "text": [
      "Tor is working.\n"
     ]
    }
   ],
   "source": [
    "%reset -f\n",
    "import requests\n",
    "\n",
    "# Set up Tor proxy\n",
    "tor_proxy = \"socks5://127.0.0.1:9050\"\n",
    "proxies = {\n",
    "    \"http\": tor_proxy,\n",
    "    \"https\": tor_proxy,\n",
    "}\n",
    "\n",
    "# Check if Tor is working by making a request to the official Tor check website\n",
    "try:\n",
    "    response = requests.get(\"https://check.torproject.org\", proxies=proxies)\n",
    "    if \"Congratulations. This browser is configured to use Tor.\" in response.text:\n",
    "        print(\"Tor is working.\")\n",
    "    else:\n",
    "        print(\"Tor is not working.\")\n",
    "except requests.exceptions.RequestException as e:\n",
    "    print(\"Tor is not working:\", e)"
   ]
  },
  {
   "cell_type": "markdown",
   "id": "8a88a972",
   "metadata": {},
   "source": [
    "# SCRAPE HESSPRES"
   ]
  },
  {
   "cell_type": "code",
   "execution_count": 11,
   "id": "7a4d34bb",
   "metadata": {},
   "outputs": [
    {
     "name": "stdout",
     "output_type": "stream",
     "text": [
      "Found 29 comments\n",
      "First 5 comments:\n",
      "1: في المغرب ليست هناك محاسبة لا للحكومة و لا غيرها سواءا كان هناك هضر للمال العام او ماشابه كذلك فلن يحاسب احد و ستبقى الامور على حالها المهم هي حسن الخاتمة و السلام.\n",
      "2: سلاح تدافع بين الأغلبية فقط والدليل ما قاله نزار بركة و كذبه الطالبي المهم أنهم الإثنين كلامهم لا يتق به المغاربة\n",
      "3: هاد الأرقام لا من طرف الحكومة ولا من طرف المعارضة يشبه البرنامج من سيربح المليار\n",
      "4: المرجو ايقاف هذا الدعم من الدولة لاولئك المضاربين الشناقة،فدعمهم لم يزيدهم الا جشعا ولهطة.فبإلغاء النحر هاته السنة ومنع ذبح إناث الابقار والماعز والأغنام سيتوفر المنتوج المحلي،وبالتالي لسنا في حاجة لهذا الاستيراد.\n",
      "5: فين هوا السيد فوزي القجع يخرج يوضح لينا ويعطينا أرقام الصحيحة ياك هوا مول الميزانية ولا حتى هيا غادي يخرج يقول لينا أطراف أخرى بحال ميزانية نهضة بركان وميزانية الجامعة الملكية المغربية\n"
     ]
    }
   ],
   "source": [
    "%reset -f\n",
    "from datetime import datetime\n",
    "import os\n",
    "import hashlib\n",
    "from selenium import webdriver\n",
    "from selenium.webdriver.common.by import By\n",
    "from selenium.webdriver.chrome.service import Service\n",
    "from webdriver_manager.chrome import ChromeDriverManager\n",
    "from selenium.webdriver.chrome.options import Options\n",
    "from selenium.webdriver.support.ui import WebDriverWait\n",
    "from selenium.webdriver.support import expected_conditions as EC\n",
    "import time\n",
    "from selenium.webdriver.common.action_chains import ActionChains\n",
    "from selenium.webdriver.common.keys import Keys\n",
    "# Set up Tor proxy\n",
    "tor_proxy = \"socks5://127.0.0.1:9050\"\n",
    "\n",
    "# Set up Chrome options to use Tor proxy\n",
    "chrome_options = Options()\n",
    "chrome_options.add_argument(f\"--proxy-server={tor_proxy}\")\n",
    "\n",
    "# Set up the Chrome WebDriver with Tor proxy\n",
    "driver = webdriver.Chrome(service=Service(ChromeDriverManager().install()), options=chrome_options)\n",
    "\n",
    "# Navigate to a website\n",
    "driver.get(\"https://www.hespress.com/%d9%83%d8%b4%d9%81-%d9%82%d9%8a%d9%85%d8%a9-%d8%a7%d9%84%d8%af%d8%b9%d9%85-%d8%a7%d9%84%d8%a7%d8%b3%d8%aa%d8%ab%d9%86%d8%a7%d8%a6%d9%8a-%d9%84%d8%a7%d8%b3%d8%aa%d9%8a%d8%b1%d8%a7%d8%af-%d8%a7%d9%84-1538604.html\")\n",
    "\n",
    "\n",
    "\n",
    "\n",
    "# Wait for comments to load \n",
    "input(\"Press Enter to continue after comments have loaded...\")\n",
    "\n",
    "# Find all comment divs using a dynamic XPath pattern\n",
    "comment_divs = driver.find_elements(By.XPATH, '//div[starts-with(@id, \"div-comment-\")]/div[2]/p')\n",
    "\n",
    "# Extract text from each comment\n",
    "comments_text = []\n",
    "for div in comment_divs:\n",
    "    try:\n",
    "        comments_text.append(div.text)\n",
    "    except:\n",
    "        continue\n",
    "\n",
    "print(f\"Found {len(comments_text)} comments\")\n",
    "\n",
    "\n",
    "print(\"First 5 comments:\")\n",
    "for i in range(min(5, len(comments_text))):\n",
    "    print(f\"{i + 1}: {comments_text[i]}\")\n",
    "\n",
    "\n",
    "\n",
    "# Close the browser\n",
    "driver.quit()\n"
   ]
  }
 ],
 "metadata": {
  "kernelspec": {
   "display_name": "scrape-comments",
   "language": "python",
   "name": "python3"
  },
  "language_info": {
   "codemirror_mode": {
    "name": "ipython",
    "version": 3
   },
   "file_extension": ".py",
   "mimetype": "text/x-python",
   "name": "python",
   "nbconvert_exporter": "python",
   "pygments_lexer": "ipython3",
   "version": "3.8.20"
  }
 },
 "nbformat": 4,
 "nbformat_minor": 5
}
